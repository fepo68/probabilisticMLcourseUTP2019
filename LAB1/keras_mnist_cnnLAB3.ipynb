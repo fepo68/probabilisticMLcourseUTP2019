{
  "nbformat": 4,
  "nbformat_minor": 0,
  "metadata": {
    "colab": {
      "name": "keras-mnist-cnnLAB3.ipynb",
      "version": "0.3.2",
      "provenance": []
    },
    "language_info": {
      "codemirror_mode": {
        "name": "ipython",
        "version": 3
      },
      "file_extension": ".py",
      "mimetype": "text/x-python",
      "name": "python",
      "nbconvert_exporter": "python",
      "pygments_lexer": "ipython3",
      "version": "3.5.2"
    },
    "kernelspec": {
      "name": "python3",
      "display_name": "Python 3"
    },
    "accelerator": "TPU"
  },
  "cells": [
    {
      "cell_type": "markdown",
      "metadata": {
        "id": "_iSUyir00GQi",
        "colab_type": "text"
      },
      "source": [
        "# MNIST handwritten digits classification with CNNs\n",
        "\n",
        "## Advanced topics on machine learning\n",
        "Mauricio A. Álvarez Phd\n",
        "\n",
        "TA:\n",
        "Cristian D. Guarnizo PhD and Hernan F. García PhD (c)\n",
        "\n",
        "In this notebook, we'll train a convolutional neural network (CNN, ConvNet) to classify MNIST digits using Keras (with either Theano or Tensorflow as the compute backend).  Keras version $\\ge$ 2 is required. \n",
        "\n",
        "This notebook builds on the MNIST-MLP notebook, so the recommended order is to go through the MNIST-MLP notebook before starting with this one. \n",
        "\n",
        "First, the needed imports. Note that there are a few new layers compared to the MNIST-MLP notebook: Flatten, MaxPooling2D, Conv2D."
      ]
    },
    {
      "cell_type": "code",
      "metadata": {
        "id": "yTUZiWRz0GQo",
        "colab_type": "code",
        "outputId": "d7b4bf74-30e0-435f-d757-357b10af3b88",
        "colab": {
          "base_uri": "https://localhost:8080/",
          "height": 52
        }
      },
      "source": [
        "%matplotlib inline\n",
        "\n",
        "from keras.models import Sequential\n",
        "from keras.layers import Dense, Activation, Dropout, Flatten, MaxPooling2D\n",
        "from keras.layers.convolutional import Conv2D \n",
        "from keras.utils import np_utils\n",
        "from keras import backend as K\n",
        "\n",
        "from distutils.version import LooseVersion as LV\n",
        "from keras import __version__\n",
        "\n",
        "from IPython.display import SVG\n",
        "from keras.utils.vis_utils import model_to_dot\n",
        "\n",
        "import numpy as np\n",
        "import matplotlib.pyplot as plt\n",
        "import seaborn as sns\n",
        "sns.set()\n",
        "\n",
        "print('Using Keras version:', __version__, 'backend:', K.backend())\n",
        "assert(LV(__version__) >= LV(\"2.0.0\"))"
      ],
      "execution_count": 0,
      "outputs": [
        {
          "output_type": "stream",
          "text": [
            "Using TensorFlow backend.\n"
          ],
          "name": "stderr"
        },
        {
          "output_type": "stream",
          "text": [
            "Using Keras version: 2.2.4 backend: tensorflow\n"
          ],
          "name": "stdout"
        }
      ]
    },
    {
      "cell_type": "markdown",
      "metadata": {
        "id": "9dkeKnQ-0GQv",
        "colab_type": "text"
      },
      "source": [
        "Let's load the MNIST or Fashion-MNIST dataset."
      ]
    },
    {
      "cell_type": "code",
      "metadata": {
        "id": "4AQnkYEb0GQx",
        "colab_type": "code",
        "outputId": "fabb6438-20d7-4005-eb77-736b5b9cd940",
        "colab": {
          "base_uri": "https://localhost:8080/",
          "height": 140
        }
      },
      "source": [
        "from keras.datasets import mnist, fashion_mnist\n",
        "(X_train, y_train), (X_test, y_test) = mnist.load_data()\n",
        "#(X_train, y_train), (X_test, y_test) = fashion_mnist.load_data()\n",
        "nb_classes = 10\n",
        "\n",
        "X_train = X_train.astype('float32')\n",
        "X_test = X_test.astype('float32')\n",
        "X_train /= 255\n",
        "X_test /= 255\n",
        "\n",
        "# one-hot encoding:\n",
        "Y_train = np_utils.to_categorical(y_train, nb_classes)\n",
        "Y_test = np_utils.to_categorical(y_test, nb_classes)\n",
        "\n",
        "print()\n",
        "print('MNIST data loaded: train:',len(X_train),'test:',len(X_test))\n",
        "print('X_train:', X_train.shape)\n",
        "print('y_train:', y_train.shape)\n",
        "print('Y_train:', Y_train.shape)"
      ],
      "execution_count": 0,
      "outputs": [
        {
          "output_type": "stream",
          "text": [
            "Downloading data from https://s3.amazonaws.com/img-datasets/mnist.npz\n",
            "11493376/11490434 [==============================] - 0s 0us/step\n",
            "\n",
            "MNIST data loaded: train: 60000 test: 10000\n",
            "X_train: (60000, 28, 28)\n",
            "y_train: (60000,)\n",
            "Y_train: (60000, 10)\n"
          ],
          "name": "stdout"
        }
      ]
    },
    {
      "cell_type": "markdown",
      "metadata": {
        "id": "9XpU9qqf0GQ3",
        "colab_type": "text"
      },
      "source": [
        "We'll have to do a bit of tensor manipulations, depending on the used backend (Theano or Tensorflow)."
      ]
    },
    {
      "cell_type": "code",
      "metadata": {
        "id": "xW9J-iPU0GQ4",
        "colab_type": "code",
        "outputId": "67327333-048f-4ebf-89ec-07b3587ae94b",
        "colab": {
          "base_uri": "https://localhost:8080/",
          "height": 52
        }
      },
      "source": [
        "# input image dimensions\n",
        "img_rows, img_cols = 28, 28\n",
        "\n",
        "if K.image_dim_ordering() == 'th':\n",
        "    X_train = X_train.reshape(X_train.shape[0], 1, img_rows, img_cols)\n",
        "    X_test = X_test.reshape(X_test.shape[0], 1, img_rows, img_cols)\n",
        "    input_shape = (1, img_rows, img_cols)\n",
        "else:\n",
        "    X_train = X_train.reshape(X_train.shape[0], img_rows, img_cols, 1)\n",
        "    X_test = X_test.reshape(X_test.shape[0], img_rows, img_cols, 1)\n",
        "    input_shape = (img_rows, img_cols, 1)\n",
        "    \n",
        "print('X_train:', X_train.shape)\n",
        "print('X_test:', X_test.shape)"
      ],
      "execution_count": 0,
      "outputs": [
        {
          "output_type": "stream",
          "text": [
            "X_train: (60000, 28, 28, 1)\n",
            "X_test: (10000, 28, 28, 1)\n"
          ],
          "name": "stdout"
        }
      ]
    },
    {
      "cell_type": "markdown",
      "metadata": {
        "id": "Po-M5NlU0GQ-",
        "colab_type": "text"
      },
      "source": [
        "## Initialization\n",
        "\n",
        "Now we are ready to create a convolutional model.\n",
        "\n",
        " * The `Convolution2D` layers operate on 2D matrices so we input the digit images directly to the model.  \n",
        " * The `MaxPooling2D` layer reduces the spatial dimensions, that is, makes the image smaller.\n",
        " * The `Flatten` layer flattens the 2D matrices into vectors, so we can then switch to  `Dense` layers as in the MLP model. \n",
        "\n",
        "See https://keras.io/layers/convolutional/, https://keras.io/layers/pooling/ for more information."
      ]
    },
    {
      "cell_type": "code",
      "metadata": {
        "id": "EZTlj8gP0GRA",
        "colab_type": "code",
        "outputId": "1dd533c7-f515-40a7-b325-50fbcd3f00c7",
        "colab": {
          "base_uri": "https://localhost:8080/",
          "height": 565
        }
      },
      "source": [
        "# number of convolutional filters to use\n",
        "nb_filters = 32\n",
        "# convolution kernel size\n",
        "kernel_size = (3, 3)\n",
        "# size of pooling area for max pooling\n",
        "pool_size = (2, 2)\n",
        "\n",
        "model = Sequential()\n",
        "\n",
        "model.add(Conv2D(nb_filters, kernel_size,\n",
        "                 padding='valid',\n",
        "                 input_shape=input_shape,\n",
        "                 activation='relu'))\n",
        "model.add(Conv2D(nb_filters, kernel_size,\n",
        "                 activation='relu'))\n",
        "model.add(MaxPooling2D(pool_size=pool_size))\n",
        "model.add(Dropout(0.25))\n",
        "\n",
        "model.add(Flatten())\n",
        "model.add(Dense(units=128, activation='relu'))\n",
        "model.add(Dropout(0.5))\n",
        "model.add(Dense(units=nb_classes, activation='softmax'))\n",
        "\n",
        "model.compile(loss='categorical_crossentropy',\n",
        "              optimizer='rmsprop',\n",
        "              metrics=['accuracy'])\n",
        "\n",
        "print(model.summary())"
      ],
      "execution_count": 0,
      "outputs": [
        {
          "output_type": "stream",
          "text": [
            "WARNING:tensorflow:From /usr/local/lib/python3.6/dist-packages/tensorflow/python/framework/op_def_library.py:263: colocate_with (from tensorflow.python.framework.ops) is deprecated and will be removed in a future version.\n",
            "Instructions for updating:\n",
            "Colocations handled automatically by placer.\n",
            "WARNING:tensorflow:From /usr/local/lib/python3.6/dist-packages/keras/backend/tensorflow_backend.py:3445: calling dropout (from tensorflow.python.ops.nn_ops) with keep_prob is deprecated and will be removed in a future version.\n",
            "Instructions for updating:\n",
            "Please use `rate` instead of `keep_prob`. Rate should be set to `rate = 1 - keep_prob`.\n",
            "_________________________________________________________________\n",
            "Layer (type)                 Output Shape              Param #   \n",
            "=================================================================\n",
            "conv2d_1 (Conv2D)            (None, 26, 26, 32)        320       \n",
            "_________________________________________________________________\n",
            "conv2d_2 (Conv2D)            (None, 24, 24, 32)        9248      \n",
            "_________________________________________________________________\n",
            "max_pooling2d_1 (MaxPooling2 (None, 12, 12, 32)        0         \n",
            "_________________________________________________________________\n",
            "dropout_1 (Dropout)          (None, 12, 12, 32)        0         \n",
            "_________________________________________________________________\n",
            "flatten_1 (Flatten)          (None, 4608)              0         \n",
            "_________________________________________________________________\n",
            "dense_1 (Dense)              (None, 128)               589952    \n",
            "_________________________________________________________________\n",
            "dropout_2 (Dropout)          (None, 128)               0         \n",
            "_________________________________________________________________\n",
            "dense_2 (Dense)              (None, 10)                1290      \n",
            "=================================================================\n",
            "Total params: 600,810\n",
            "Trainable params: 600,810\n",
            "Non-trainable params: 0\n",
            "_________________________________________________________________\n",
            "None\n"
          ],
          "name": "stdout"
        }
      ]
    },
    {
      "cell_type": "code",
      "metadata": {
        "id": "LMLW9CCk0GRF",
        "colab_type": "code",
        "outputId": "18c7fbec-2779-483c-8c1c-bf7893c6d386",
        "colab": {
          "base_uri": "https://localhost:8080/",
          "height": 966
        }
      },
      "source": [
        "SVG(model_to_dot(model, show_shapes=True).create(prog='dot', format='svg'))"
      ],
      "execution_count": 0,
      "outputs": [
        {
          "output_type": "execute_result",
          "data": {
            "text/plain": [
              "<IPython.core.display.SVG object>"
            ],
            "image/svg+xml": "<svg height=\"709pt\" viewBox=\"0.00 0.00 412.00 709.00\" width=\"412pt\" xmlns=\"http://www.w3.org/2000/svg\" xmlns:xlink=\"http://www.w3.org/1999/xlink\">\n<g class=\"graph\" id=\"graph0\" transform=\"scale(1 1) rotate(0) translate(4 705)\">\n<title>G</title>\n<polygon fill=\"#ffffff\" points=\"-4,4 -4,-705 408,-705 408,4 -4,4\" stroke=\"transparent\"/>\n<!-- 139627855016568 -->\n<g class=\"node\" id=\"node1\">\n<title>139627855016568</title>\n<polygon fill=\"none\" points=\"44,-581.5 44,-627.5 360,-627.5 360,-581.5 44,-581.5\" stroke=\"#000000\"/>\n<text fill=\"#000000\" font-family=\"Times,serif\" font-size=\"14.00\" text-anchor=\"middle\" x=\"110.5\" y=\"-600.8\">conv2d_1: Conv2D</text>\n<polyline fill=\"none\" points=\"177,-581.5 177,-627.5 \" stroke=\"#000000\"/>\n<text fill=\"#000000\" font-family=\"Times,serif\" font-size=\"14.00\" text-anchor=\"middle\" x=\"206\" y=\"-612.3\">input:</text>\n<polyline fill=\"none\" points=\"177,-604.5 235,-604.5 \" stroke=\"#000000\"/>\n<text fill=\"#000000\" font-family=\"Times,serif\" font-size=\"14.00\" text-anchor=\"middle\" x=\"206\" y=\"-589.3\">output:</text>\n<polyline fill=\"none\" points=\"235,-581.5 235,-627.5 \" stroke=\"#000000\"/>\n<text fill=\"#000000\" font-family=\"Times,serif\" font-size=\"14.00\" text-anchor=\"middle\" x=\"297.5\" y=\"-612.3\">(None, 28, 28, 1)</text>\n<polyline fill=\"none\" points=\"235,-604.5 360,-604.5 \" stroke=\"#000000\"/>\n<text fill=\"#000000\" font-family=\"Times,serif\" font-size=\"14.00\" text-anchor=\"middle\" x=\"297.5\" y=\"-589.3\">(None, 26, 26, 32)</text>\n</g>\n<!-- 139627855016456 -->\n<g class=\"node\" id=\"node2\">\n<title>139627855016456</title>\n<polygon fill=\"none\" points=\"44,-498.5 44,-544.5 360,-544.5 360,-498.5 44,-498.5\" stroke=\"#000000\"/>\n<text fill=\"#000000\" font-family=\"Times,serif\" font-size=\"14.00\" text-anchor=\"middle\" x=\"110.5\" y=\"-517.8\">conv2d_2: Conv2D</text>\n<polyline fill=\"none\" points=\"177,-498.5 177,-544.5 \" stroke=\"#000000\"/>\n<text fill=\"#000000\" font-family=\"Times,serif\" font-size=\"14.00\" text-anchor=\"middle\" x=\"206\" y=\"-529.3\">input:</text>\n<polyline fill=\"none\" points=\"177,-521.5 235,-521.5 \" stroke=\"#000000\"/>\n<text fill=\"#000000\" font-family=\"Times,serif\" font-size=\"14.00\" text-anchor=\"middle\" x=\"206\" y=\"-506.3\">output:</text>\n<polyline fill=\"none\" points=\"235,-498.5 235,-544.5 \" stroke=\"#000000\"/>\n<text fill=\"#000000\" font-family=\"Times,serif\" font-size=\"14.00\" text-anchor=\"middle\" x=\"297.5\" y=\"-529.3\">(None, 26, 26, 32)</text>\n<polyline fill=\"none\" points=\"235,-521.5 360,-521.5 \" stroke=\"#000000\"/>\n<text fill=\"#000000\" font-family=\"Times,serif\" font-size=\"14.00\" text-anchor=\"middle\" x=\"297.5\" y=\"-506.3\">(None, 24, 24, 32)</text>\n</g>\n<!-- 139627855016568&#45;&gt;139627855016456 -->\n<g class=\"edge\" id=\"edge2\">\n<title>139627855016568-&gt;139627855016456</title>\n<path d=\"M202,-581.3799C202,-573.1745 202,-563.7679 202,-554.8786\" fill=\"none\" stroke=\"#000000\"/>\n<polygon fill=\"#000000\" points=\"205.5001,-554.784 202,-544.784 198.5001,-554.784 205.5001,-554.784\" stroke=\"#000000\"/>\n</g>\n<!-- 139627855017296 -->\n<g class=\"node\" id=\"node3\">\n<title>139627855017296</title>\n<polygon fill=\"none\" points=\"0,-415.5 0,-461.5 404,-461.5 404,-415.5 0,-415.5\" stroke=\"#000000\"/>\n<text fill=\"#000000\" font-family=\"Times,serif\" font-size=\"14.00\" text-anchor=\"middle\" x=\"110.5\" y=\"-434.8\">max_pooling2d_1: MaxPooling2D</text>\n<polyline fill=\"none\" points=\"221,-415.5 221,-461.5 \" stroke=\"#000000\"/>\n<text fill=\"#000000\" font-family=\"Times,serif\" font-size=\"14.00\" text-anchor=\"middle\" x=\"250\" y=\"-446.3\">input:</text>\n<polyline fill=\"none\" points=\"221,-438.5 279,-438.5 \" stroke=\"#000000\"/>\n<text fill=\"#000000\" font-family=\"Times,serif\" font-size=\"14.00\" text-anchor=\"middle\" x=\"250\" y=\"-423.3\">output:</text>\n<polyline fill=\"none\" points=\"279,-415.5 279,-461.5 \" stroke=\"#000000\"/>\n<text fill=\"#000000\" font-family=\"Times,serif\" font-size=\"14.00\" text-anchor=\"middle\" x=\"341.5\" y=\"-446.3\">(None, 24, 24, 32)</text>\n<polyline fill=\"none\" points=\"279,-438.5 404,-438.5 \" stroke=\"#000000\"/>\n<text fill=\"#000000\" font-family=\"Times,serif\" font-size=\"14.00\" text-anchor=\"middle\" x=\"341.5\" y=\"-423.3\">(None, 12, 12, 32)</text>\n</g>\n<!-- 139627855016456&#45;&gt;139627855017296 -->\n<g class=\"edge\" id=\"edge3\">\n<title>139627855016456-&gt;139627855017296</title>\n<path d=\"M202,-498.3799C202,-490.1745 202,-480.7679 202,-471.8786\" fill=\"none\" stroke=\"#000000\"/>\n<polygon fill=\"#000000\" points=\"205.5001,-471.784 202,-461.784 198.5001,-471.784 205.5001,-471.784\" stroke=\"#000000\"/>\n</g>\n<!-- 139627855082888 -->\n<g class=\"node\" id=\"node4\">\n<title>139627855082888</title>\n<polygon fill=\"none\" points=\"43.5,-332.5 43.5,-378.5 360.5,-378.5 360.5,-332.5 43.5,-332.5\" stroke=\"#000000\"/>\n<text fill=\"#000000\" font-family=\"Times,serif\" font-size=\"14.00\" text-anchor=\"middle\" x=\"110.5\" y=\"-351.8\">dropout_1: Dropout</text>\n<polyline fill=\"none\" points=\"177.5,-332.5 177.5,-378.5 \" stroke=\"#000000\"/>\n<text fill=\"#000000\" font-family=\"Times,serif\" font-size=\"14.00\" text-anchor=\"middle\" x=\"206.5\" y=\"-363.3\">input:</text>\n<polyline fill=\"none\" points=\"177.5,-355.5 235.5,-355.5 \" stroke=\"#000000\"/>\n<text fill=\"#000000\" font-family=\"Times,serif\" font-size=\"14.00\" text-anchor=\"middle\" x=\"206.5\" y=\"-340.3\">output:</text>\n<polyline fill=\"none\" points=\"235.5,-332.5 235.5,-378.5 \" stroke=\"#000000\"/>\n<text fill=\"#000000\" font-family=\"Times,serif\" font-size=\"14.00\" text-anchor=\"middle\" x=\"298\" y=\"-363.3\">(None, 12, 12, 32)</text>\n<polyline fill=\"none\" points=\"235.5,-355.5 360.5,-355.5 \" stroke=\"#000000\"/>\n<text fill=\"#000000\" font-family=\"Times,serif\" font-size=\"14.00\" text-anchor=\"middle\" x=\"298\" y=\"-340.3\">(None, 12, 12, 32)</text>\n</g>\n<!-- 139627855017296&#45;&gt;139627855082888 -->\n<g class=\"edge\" id=\"edge4\">\n<title>139627855017296-&gt;139627855082888</title>\n<path d=\"M202,-415.3799C202,-407.1745 202,-397.7679 202,-388.8786\" fill=\"none\" stroke=\"#000000\"/>\n<polygon fill=\"#000000\" points=\"205.5001,-388.784 202,-378.784 198.5001,-388.784 205.5001,-388.784\" stroke=\"#000000\"/>\n</g>\n<!-- 139627855017016 -->\n<g class=\"node\" id=\"node5\">\n<title>139627855017016</title>\n<polygon fill=\"none\" points=\"54,-249.5 54,-295.5 350,-295.5 350,-249.5 54,-249.5\" stroke=\"#000000\"/>\n<text fill=\"#000000\" font-family=\"Times,serif\" font-size=\"14.00\" text-anchor=\"middle\" x=\"110.5\" y=\"-268.8\">flatten_1: Flatten</text>\n<polyline fill=\"none\" points=\"167,-249.5 167,-295.5 \" stroke=\"#000000\"/>\n<text fill=\"#000000\" font-family=\"Times,serif\" font-size=\"14.00\" text-anchor=\"middle\" x=\"196\" y=\"-280.3\">input:</text>\n<polyline fill=\"none\" points=\"167,-272.5 225,-272.5 \" stroke=\"#000000\"/>\n<text fill=\"#000000\" font-family=\"Times,serif\" font-size=\"14.00\" text-anchor=\"middle\" x=\"196\" y=\"-257.3\">output:</text>\n<polyline fill=\"none\" points=\"225,-249.5 225,-295.5 \" stroke=\"#000000\"/>\n<text fill=\"#000000\" font-family=\"Times,serif\" font-size=\"14.00\" text-anchor=\"middle\" x=\"287.5\" y=\"-280.3\">(None, 12, 12, 32)</text>\n<polyline fill=\"none\" points=\"225,-272.5 350,-272.5 \" stroke=\"#000000\"/>\n<text fill=\"#000000\" font-family=\"Times,serif\" font-size=\"14.00\" text-anchor=\"middle\" x=\"287.5\" y=\"-257.3\">(None, 4608)</text>\n</g>\n<!-- 139627855082888&#45;&gt;139627855017016 -->\n<g class=\"edge\" id=\"edge5\">\n<title>139627855082888-&gt;139627855017016</title>\n<path d=\"M202,-332.3799C202,-324.1745 202,-314.7679 202,-305.8786\" fill=\"none\" stroke=\"#000000\"/>\n<polygon fill=\"#000000\" points=\"205.5001,-305.784 202,-295.784 198.5001,-305.784 205.5001,-305.784\" stroke=\"#000000\"/>\n</g>\n<!-- 139627855082272 -->\n<g class=\"node\" id=\"node6\">\n<title>139627855082272</title>\n<polygon fill=\"none\" points=\"72,-166.5 72,-212.5 332,-212.5 332,-166.5 72,-166.5\" stroke=\"#000000\"/>\n<text fill=\"#000000\" font-family=\"Times,serif\" font-size=\"14.00\" text-anchor=\"middle\" x=\"125.5\" y=\"-185.8\">dense_1: Dense</text>\n<polyline fill=\"none\" points=\"179,-166.5 179,-212.5 \" stroke=\"#000000\"/>\n<text fill=\"#000000\" font-family=\"Times,serif\" font-size=\"14.00\" text-anchor=\"middle\" x=\"208\" y=\"-197.3\">input:</text>\n<polyline fill=\"none\" points=\"179,-189.5 237,-189.5 \" stroke=\"#000000\"/>\n<text fill=\"#000000\" font-family=\"Times,serif\" font-size=\"14.00\" text-anchor=\"middle\" x=\"208\" y=\"-174.3\">output:</text>\n<polyline fill=\"none\" points=\"237,-166.5 237,-212.5 \" stroke=\"#000000\"/>\n<text fill=\"#000000\" font-family=\"Times,serif\" font-size=\"14.00\" text-anchor=\"middle\" x=\"284.5\" y=\"-197.3\">(None, 4608)</text>\n<polyline fill=\"none\" points=\"237,-189.5 332,-189.5 \" stroke=\"#000000\"/>\n<text fill=\"#000000\" font-family=\"Times,serif\" font-size=\"14.00\" text-anchor=\"middle\" x=\"284.5\" y=\"-174.3\">(None, 128)</text>\n</g>\n<!-- 139627855017016&#45;&gt;139627855082272 -->\n<g class=\"edge\" id=\"edge6\">\n<title>139627855017016-&gt;139627855082272</title>\n<path d=\"M202,-249.3799C202,-241.1745 202,-231.7679 202,-222.8786\" fill=\"none\" stroke=\"#000000\"/>\n<polygon fill=\"#000000\" points=\"205.5001,-222.784 202,-212.784 198.5001,-222.784 205.5001,-222.784\" stroke=\"#000000\"/>\n</g>\n<!-- 139627842206912 -->\n<g class=\"node\" id=\"node7\">\n<title>139627842206912</title>\n<polygon fill=\"none\" points=\"62.5,-83.5 62.5,-129.5 341.5,-129.5 341.5,-83.5 62.5,-83.5\" stroke=\"#000000\"/>\n<text fill=\"#000000\" font-family=\"Times,serif\" font-size=\"14.00\" text-anchor=\"middle\" x=\"129.5\" y=\"-102.8\">dropout_2: Dropout</text>\n<polyline fill=\"none\" points=\"196.5,-83.5 196.5,-129.5 \" stroke=\"#000000\"/>\n<text fill=\"#000000\" font-family=\"Times,serif\" font-size=\"14.00\" text-anchor=\"middle\" x=\"225.5\" y=\"-114.3\">input:</text>\n<polyline fill=\"none\" points=\"196.5,-106.5 254.5,-106.5 \" stroke=\"#000000\"/>\n<text fill=\"#000000\" font-family=\"Times,serif\" font-size=\"14.00\" text-anchor=\"middle\" x=\"225.5\" y=\"-91.3\">output:</text>\n<polyline fill=\"none\" points=\"254.5,-83.5 254.5,-129.5 \" stroke=\"#000000\"/>\n<text fill=\"#000000\" font-family=\"Times,serif\" font-size=\"14.00\" text-anchor=\"middle\" x=\"298\" y=\"-114.3\">(None, 128)</text>\n<polyline fill=\"none\" points=\"254.5,-106.5 341.5,-106.5 \" stroke=\"#000000\"/>\n<text fill=\"#000000\" font-family=\"Times,serif\" font-size=\"14.00\" text-anchor=\"middle\" x=\"298\" y=\"-91.3\">(None, 128)</text>\n</g>\n<!-- 139627855082272&#45;&gt;139627842206912 -->\n<g class=\"edge\" id=\"edge7\">\n<title>139627855082272-&gt;139627842206912</title>\n<path d=\"M202,-166.3799C202,-158.1745 202,-148.7679 202,-139.8786\" fill=\"none\" stroke=\"#000000\"/>\n<polygon fill=\"#000000\" points=\"205.5001,-139.784 202,-129.784 198.5001,-139.784 205.5001,-139.784\" stroke=\"#000000\"/>\n</g>\n<!-- 139627841473280 -->\n<g class=\"node\" id=\"node8\">\n<title>139627841473280</title>\n<polygon fill=\"none\" points=\"76,-.5 76,-46.5 328,-46.5 328,-.5 76,-.5\" stroke=\"#000000\"/>\n<text fill=\"#000000\" font-family=\"Times,serif\" font-size=\"14.00\" text-anchor=\"middle\" x=\"129.5\" y=\"-19.8\">dense_2: Dense</text>\n<polyline fill=\"none\" points=\"183,-.5 183,-46.5 \" stroke=\"#000000\"/>\n<text fill=\"#000000\" font-family=\"Times,serif\" font-size=\"14.00\" text-anchor=\"middle\" x=\"212\" y=\"-31.3\">input:</text>\n<polyline fill=\"none\" points=\"183,-23.5 241,-23.5 \" stroke=\"#000000\"/>\n<text fill=\"#000000\" font-family=\"Times,serif\" font-size=\"14.00\" text-anchor=\"middle\" x=\"212\" y=\"-8.3\">output:</text>\n<polyline fill=\"none\" points=\"241,-.5 241,-46.5 \" stroke=\"#000000\"/>\n<text fill=\"#000000\" font-family=\"Times,serif\" font-size=\"14.00\" text-anchor=\"middle\" x=\"284.5\" y=\"-31.3\">(None, 128)</text>\n<polyline fill=\"none\" points=\"241,-23.5 328,-23.5 \" stroke=\"#000000\"/>\n<text fill=\"#000000\" font-family=\"Times,serif\" font-size=\"14.00\" text-anchor=\"middle\" x=\"284.5\" y=\"-8.3\">(None, 10)</text>\n</g>\n<!-- 139627842206912&#45;&gt;139627841473280 -->\n<g class=\"edge\" id=\"edge8\">\n<title>139627842206912-&gt;139627841473280</title>\n<path d=\"M202,-83.3799C202,-75.1745 202,-65.7679 202,-56.8786\" fill=\"none\" stroke=\"#000000\"/>\n<polygon fill=\"#000000\" points=\"205.5001,-56.784 202,-46.784 198.5001,-56.784 205.5001,-56.784\" stroke=\"#000000\"/>\n</g>\n<!-- 139627855016960 -->\n<g class=\"node\" id=\"node9\">\n<title>139627855016960</title>\n<polygon fill=\"none\" points=\"137.5,-664.5 137.5,-700.5 266.5,-700.5 266.5,-664.5 137.5,-664.5\" stroke=\"#000000\"/>\n<text fill=\"#000000\" font-family=\"Times,serif\" font-size=\"14.00\" text-anchor=\"middle\" x=\"202\" y=\"-678.8\">139627855016960</text>\n</g>\n<!-- 139627855016960&#45;&gt;139627855016568 -->\n<g class=\"edge\" id=\"edge1\">\n<title>139627855016960-&gt;139627855016568</title>\n<path d=\"M202,-664.4092C202,-656.4308 202,-646.795 202,-637.606\" fill=\"none\" stroke=\"#000000\"/>\n<polygon fill=\"#000000\" points=\"205.5001,-637.5333 202,-627.5333 198.5001,-637.5334 205.5001,-637.5333\" stroke=\"#000000\"/>\n</g>\n</g>\n</svg>"
          },
          "metadata": {
            "tags": []
          },
          "execution_count": 6
        }
      ]
    },
    {
      "cell_type": "markdown",
      "metadata": {
        "id": "m5FOnN5X0GRK",
        "colab_type": "text"
      },
      "source": [
        "## Learning\n",
        "\n",
        "Now let's train the CNN model. Note that we do not need the `reshape()` function as in the MLP case. \n",
        "\n",
        "This is a relatively complex model, so training is considerably slower than with MLPs. "
      ]
    },
    {
      "cell_type": "code",
      "metadata": {
        "id": "WEnd1_Sh0GRM",
        "colab_type": "code",
        "outputId": "2b5c134e-27b9-40b3-e94a-f87e9648e597",
        "colab": {
          "base_uri": "https://localhost:8080/",
          "height": 228
        }
      },
      "source": [
        "%%time\n",
        "\n",
        "epochs = 5 # one epoch takes about 45 seconds\n",
        "\n",
        "history = model.fit(X_train, \n",
        "                    Y_train, \n",
        "                    epochs=epochs, \n",
        "                    batch_size=128,\n",
        "                    verbose=2)"
      ],
      "execution_count": 0,
      "outputs": [
        {
          "output_type": "stream",
          "text": [
            "Epoch 1/5\n",
            " - 106s - loss: 0.0534 - acc: 0.9846\n",
            "Epoch 2/5\n",
            " - 107s - loss: 0.0531 - acc: 0.9849\n",
            "Epoch 3/5\n",
            " - 108s - loss: 0.0501 - acc: 0.9859\n",
            "Epoch 4/5\n",
            " - 107s - loss: 0.0498 - acc: 0.9855\n",
            "Epoch 5/5\n",
            " - 107s - loss: 0.0531 - acc: 0.9850\n",
            "CPU times: user 17min 12s, sys: 20.9 s, total: 17min 33s\n",
            "Wall time: 8min 55s\n"
          ],
          "name": "stdout"
        }
      ]
    },
    {
      "cell_type": "code",
      "metadata": {
        "id": "SsPKpho30GRR",
        "colab_type": "code",
        "colab": {}
      },
      "source": [
        "plt.figure(figsize=(5,3))\n",
        "plt.plot(history.epoch,history.history['loss'])\n",
        "plt.title('loss')\n",
        "\n",
        "plt.figure(figsize=(5,3))\n",
        "plt.plot(history.epoch,history.history['acc'])\n",
        "plt.title('accuracy');"
      ],
      "execution_count": 0,
      "outputs": []
    },
    {
      "cell_type": "markdown",
      "metadata": {
        "id": "W1JQujtq0GRZ",
        "colab_type": "text"
      },
      "source": [
        "## Inference\n",
        "\n",
        "With enough training epochs, the test accuracy should exceed 99%.  \n",
        "\n",
        "You can compare your result with the state-of-the art [here](http://rodrigob.github.io/are_we_there_yet/build/classification_datasets_results.html).  Even more results can be found [here](http://yann.lecun.com/exdb/mnist/). "
      ]
    },
    {
      "cell_type": "code",
      "metadata": {
        "id": "qabGKjnF0GRb",
        "colab_type": "code",
        "colab": {}
      },
      "source": [
        "%%time\n",
        "scores = model.evaluate(X_test, Y_test, verbose=2)\n",
        "print(\"%s: %.2f%%\" % (model.metrics_names[1], scores[1]*100))"
      ],
      "execution_count": 0,
      "outputs": []
    },
    {
      "cell_type": "markdown",
      "metadata": {
        "id": "euvDcuc00GRk",
        "colab_type": "text"
      },
      "source": [
        "We can again take a closer look on the results. Let's begin by defining\n",
        "a helper function to show the failure cases of our classifier. "
      ]
    },
    {
      "cell_type": "code",
      "metadata": {
        "id": "tWC81GJM0GRn",
        "colab_type": "code",
        "colab": {}
      },
      "source": [
        "def show_failures(predictions, trueclass=None, predictedclass=None, maxtoshow=10):\n",
        "    rounded = np.argmax(predictions, axis=1)\n",
        "    errors = rounded!=y_test\n",
        "    print('Showing max', maxtoshow, 'first failures. '\n",
        "          'The predicted class is shown first and the correct class in parenthesis.')\n",
        "    ii = 0\n",
        "    plt.figure(figsize=(maxtoshow, 1))\n",
        "    for i in range(X_test.shape[0]):\n",
        "        if ii>=maxtoshow:\n",
        "            break\n",
        "        if errors[i]:\n",
        "            if trueclass is not None and y_test[i] != trueclass:\n",
        "                continue\n",
        "            if predictedclass is not None and predictions[i] != predictedclass:\n",
        "                continue\n",
        "            plt.subplot(1, maxtoshow, ii+1)\n",
        "            plt.axis('off')\n",
        "            if K.image_dim_ordering() == 'th':\n",
        "                plt.imshow(X_test[i,0,:,:], cmap=\"gray\")\n",
        "            else:\n",
        "                plt.imshow(X_test[i,:,:,0], cmap=\"gray\")\n",
        "            plt.title(\"%d (%d)\" % (rounded[i], y_test[i]))\n",
        "            ii = ii + 1"
      ],
      "execution_count": 0,
      "outputs": []
    },
    {
      "cell_type": "markdown",
      "metadata": {
        "id": "t5DyUGw00GRv",
        "colab_type": "text"
      },
      "source": [
        "Here are the first 10 test digits the CNN classified to a wrong class:"
      ]
    },
    {
      "cell_type": "code",
      "metadata": {
        "scrolled": true,
        "id": "Npm06unj0GRx",
        "colab_type": "code",
        "colab": {}
      },
      "source": [
        "predictions = model.predict(X_test)\n",
        "\n",
        "show_failures(predictions)"
      ],
      "execution_count": 0,
      "outputs": []
    },
    {
      "cell_type": "markdown",
      "metadata": {
        "id": "hlvBughm0GR4",
        "colab_type": "text"
      },
      "source": [
        "We can use `show_failures()` to inspect failures in more detail. For example, here are failures in which the true class was \"6\":"
      ]
    },
    {
      "cell_type": "code",
      "metadata": {
        "id": "q662iNbd0GR6",
        "colab_type": "code",
        "colab": {}
      },
      "source": [
        "show_failures(predictions, trueclass=6)"
      ],
      "execution_count": 0,
      "outputs": []
    },
    {
      "cell_type": "code",
      "metadata": {
        "id": "jchSvzNO0GSC",
        "colab_type": "code",
        "colab": {}
      },
      "source": [
        ""
      ],
      "execution_count": 0,
      "outputs": []
    },
    {
      "cell_type": "markdown",
      "metadata": {
        "id": "bqHINW1w0GSI",
        "colab_type": "text"
      },
      "source": [
        "---\n",
        "*Run this notebook in Google Colaboratory using [this link](https://colab.research.google.com/github/csc-training/intro-to-dl/blob/master/day1/keras-mnist-cnn.ipynb).*"
      ]
    }
  ]
}