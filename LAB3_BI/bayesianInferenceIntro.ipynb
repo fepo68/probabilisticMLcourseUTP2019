{
 "cells": [
  {
   "cell_type": "markdown",
   "metadata": {
    "colab_type": "text",
    "id": "CCIjYEcgKReD"
   },
   "source": [
    "# Bayesian Inference Example\n",
    "## Exercise 1: Bayesian Inference, in 3 Easy Steps\n",
    "\n",
    "\n",
    "## Advanced topics on machine learning\n",
    " UNIVERSIDAD TECNOLÓGICA DE PEREIRA\n",
    " \n",
    "Mauricio A. Álvarez PhD\n",
    "\n",
    "TA: Cristian D. Guarnizo PhD and Hernan F. García PhD (c)"
   ]
  },
  {
   "cell_type": "markdown",
   "metadata": {
    "colab_type": "text",
    "id": "HeyiQ0iDKwtR"
   },
   "source": [
    "**Step 1:** Specify a probability model\n",
    "As was noted above, Bayesian statistics involves using probability models to solve problems. So, the first task is to completely specify the model in terms of probability distributions. This includes everything: unknown parameters, data, covariates, missing data, predictions. All must be assigned some probability density.\n",
    "\n",
    "This step involves making choices.\n",
    "\n",
    "* what is the form of the sampling distribution of the data?\n",
    "* what form best describes our uncertainty in the unknown parameters?\n",
    "\n",
    "**Discrete Random Variables**\n",
    "$$X = \\{0,1\\}$$$$Y = \\{\\ldots,-2,-1,0,1,2,\\ldots\\}$$\n",
    "**Probability Mass Function**\n",
    "\n",
    "For discrete $X$,\n",
    "\n",
    "$$Pr(X=x) = f(x|\\theta)$$\n",
    "\n",
    "\n",
    "> > > ![texto alternativo](https://camo.githubusercontent.com/cbe3d7152c098000ca689e2bd16a690f0a7eaf69/687474703a2f2f75706c6f61642e77696b696d656469612e6f72672f77696b6970656469612f636f6d6d6f6e732f312f31362f506f6973736f6e5f706d662e737667)\n",
    "\n",
    "\n",
    "\n",
    "**e.g. Poisson distribution**\n",
    "\n",
    "The Poisson distribution models unbounded counts:\n",
    "\n",
    "$$Pr(X=x)=\\frac{e^{-\\lambda}\\lambda^x}{x!}$$\n",
    "\n",
    "* $X=\\{0,1,2,\\ldots\\}$\n",
    "* $\\lambda >0$\n",
    "$$E(X) = \\text{Var}(X) = \\lambda$$"
   ]
  },
  {
   "cell_type": "code",
   "execution_count": 1,
   "metadata": {
    "colab": {},
    "colab_type": "code",
    "id": "3Yn6nqzQKBlS"
   },
   "outputs": [
    {
     "name": "stderr",
     "output_type": "stream",
     "text": [
      "WARNING (theano.configdefaults): g++ not available, if using conda: `conda install m2w64-toolchain`\n",
      "D:\\ProgramData\\Anaconda3\\lib\\site-packages\\theano\\configdefaults.py:560: UserWarning: DeprecationWarning: there is no c++ compiler.This is deprecated and with Theano 0.11 a c++ compiler will be mandatory\n",
      "  warnings.warn(\"DeprecationWarning: there is no c++ compiler.\"\n",
      "WARNING (theano.configdefaults): g++ not detected ! Theano will be unable to execute optimized C-implementations (for both CPU and GPU) and will default to Python implementations. Performance will be severely degraded. To remove this warning, set Theano flags cxx to an empty string.\n",
      "WARNING (theano.tensor.blas): Using NumPy C-API based implementation for BLAS functions.\n"
     ]
    }
   ],
   "source": [
    "import numpy as np\n",
    "import pandas as pd\n",
    "import matplotlib.pylab as plt\n",
    "import seaborn as sns\n",
    "\n",
    "sns.set_context('notebook')\n",
    "\n",
    "RANDOM_SEED = 20090425\n",
    "from pymc3 import Poisson\n",
    "\n",
    "x = Poisson.dist(mu=1)\n",
    "samples = x.random(size=10000)"
   ]
  },
  {
   "cell_type": "code",
   "execution_count": 2,
   "metadata": {
    "colab": {
     "base_uri": "https://localhost:8080/",
     "height": 274
    },
    "colab_type": "code",
    "id": "QtdX9KwWMfUt",
    "outputId": "70eaa3d2-92d2-4ba1-c6da-b94cd5b78d81"
   },
   "outputs": [
    {
     "data": {
      "image/png": "[encoded data removed]",
      "text/plain": [
       "<Figure size 432x288 with 1 Axes>"
      ]
     },
     "metadata": {
      "needs_background": "light"
     },
     "output_type": "display_data"
    }
   ],
   "source": [
    "samples.mean()\n",
    "\n",
    "plt.hist(samples, bins=len(set(samples)));"
   ]
  },
  {
   "cell_type": "markdown",
   "metadata": {
    "colab_type": "text",
    "id": "J3c5hEaDMwNM"
   },
   "source": [
    "\n",
    "Continuous Random Variables\n",
    "$$X \\in [0,1]$$$$Y \\in (-\\infty, \\infty)$$\n",
    "Probability Density Function:\n",
    "\n",
    "For continuous $X$,\n",
    "\n",
    "$$Pr(x \\le X \\le x + dx) = f(x|\\theta)dx \\, \\text{ as } \\, dx \\rightarrow 0$$\n",
    "\n",
    "> > > ![texto alternativo](https://camo.githubusercontent.com/f8f12da6407a7d07a9e6feed07495378276eb44f/68747470733a2f2f75706c6f61642e77696b696d656469612e6f72672f77696b6970656469612f636f6d6d6f6e732f372f37342f4e6f726d616c5f446973747269627574696f6e5f5044462e737667)\n",
    "\n",
    "\n",
    "\n",
    "**e.g. normal distribution**\n",
    "\n",
    "$$f(x) = \\frac{1}{\\sqrt{2\\pi\\sigma^2}}\\exp\\left[-\\frac{(x-\\mu)^2}{2\\sigma^2}\\right]$$\n",
    "* $X \\in \\mathbf{R}$\n",
    "* $\\mu \\in \\mathbf{R}$\n",
    "* $\\sigma > 0$\n",
    "$$\\begin{align}E(X) &amp;= \\mu \\cr\n",
    "\\text{Var}(X) &amp;= \\sigma^2 \\end{align}$$"
   ]
  },
  {
   "cell_type": "code",
   "execution_count": 3,
   "metadata": {
    "colab": {
     "base_uri": "https://localhost:8080/",
     "height": 274
    },
    "colab_type": "code",
    "id": "8oMIUkAIMzLn",
    "outputId": "1953045b-1bfd-4132-ba3f-1dc96f462d01"
   },
   "outputs": [
    {
     "data": {
      "image/png": "[encoded data removed]",
      "text/plain": [
       "<Figure size 432x288 with 1 Axes>"
      ]
     },
     "metadata": {
      "needs_background": "light"
     },
     "output_type": "display_data"
    }
   ],
   "source": [
    "from pymc3 import Normal\n",
    "\n",
    "y = Normal.dist(mu=-2, sd=4)\n",
    "samples = y.random(size=10000)\n",
    "samples.mean()\n",
    "samples.std()\n",
    "plt.hist(samples);"
   ]
  },
  {
   "cell_type": "markdown",
   "metadata": {
    "colab_type": "text",
    "id": "XSYTXjRxNjdR"
   },
   "source": [
    "### Step 2:  Calculate a posterior distribution \n",
    "\n",
    "The mathematical form $p(\\theta | y)$ that we associated with the Bayesian approach is referred to as a posterior distribution.\n",
    "\n",
    "\n",
    "\n",
    "* Why posterior? Because it tells us what we know about the unknown $\\theta$ after having observed $y$.\n",
    "\n",
    "This posterior distribution is formulated as a function of the probability model that was specified in Step 1. Usually, we can write it down but we cannot calculate it analytically. In fact, the difficulty inherent in calculating the posterior distribution for most models of interest is perhaps the major contributing factor for the lack of widespread adoption of Bayesian methods for data analysis. Various strategies for doing so comprise this tutorial.\n",
    "\n",
    "But, once the posterior distribution is calculated, you get a lot for free:\n",
    "\n",
    "* point estimates\n",
    "* credible intervals\n",
    "* quantiles\n",
    "* predictions\n",
    "\n",
    "### Step 3: Check your model\n",
    "Though frequently ignored in practice, it is critical that the model and its outputs be assessed before using the outputs for inference. Models are specified based on assumptions that are largely unverifiable, so the least we can do is examine the output in detail, relative to the specified model and the data that were used to fit the model.\n",
    "\n",
    "Specifically, we must ask:\n",
    "\n",
    "does the model fit data?\n",
    "* are the conclusions reasonable?\n",
    "* are the outputs sensitive to changes in model structure?\n",
    "\n",
    "\n",
    "## Estimation for one group\n",
    "Before we compare two groups using Bayesian analysis, let's start with an even simpler scenario: statistical inference for one group.\n",
    "\n",
    "For this we will use Gelman et al.'s (2007) radon dataset. In this dataset the amount of the radioactive gas radon has been measured among different households in all counties of several states. Radon gas is known to be the highest cause of lung cancer in non-smokers. It is believed to be more strongly present in households containing a basement and to differ in amount present among types of soil.\n",
    "\n",
    "let's import the dataset"
   ]
  },
  {
   "cell_type": "code",
   "execution_count": 4,
   "metadata": {
    "colab": {
     "base_uri": "https://localhost:8080/",
     "height": 215
    },
    "colab_type": "code",
    "id": "hOPm3cMiNSiC",
    "outputId": "3da91c56-59c7-46d3-c3a8-6abb3e8ea176"
   },
   "outputs": [
    {
     "data": {
      "text/html": [
       "<div>\n",
       "<style scoped>\n",
       "    .dataframe tbody tr th:only-of-type {\n",
       "        vertical-align: middle;\n",
       "    }\n",
       "\n",
       "    .dataframe tbody tr th {\n",
       "        vertical-align: top;\n",
       "    }\n",
       "\n",
       "    .dataframe thead th {\n",
       "        text-align: right;\n",
       "    }\n",
       "</style>\n",
       "<table border=\"1\" class=\"dataframe\">\n",
       "  <thead>\n",
       "    <tr style=\"text-align: right;\">\n",
       "      <th></th>\n",
       "      <th>idnum</th>\n",
       "      <th>state</th>\n",
       "      <th>state2</th>\n",
       "      <th>stfips</th>\n",
       "      <th>zip</th>\n",
       "      <th>region</th>\n",
       "      <th>typebldg</th>\n",
       "      <th>floor</th>\n",
       "      <th>room</th>\n",
       "      <th>basement</th>\n",
       "      <th>...</th>\n",
       "      <th>pcterr</th>\n",
       "      <th>adjwt</th>\n",
       "      <th>dupflag</th>\n",
       "      <th>zipflag</th>\n",
       "      <th>cntyfips</th>\n",
       "      <th>county</th>\n",
       "      <th>fips</th>\n",
       "      <th>Uppm</th>\n",
       "      <th>county_code</th>\n",
       "      <th>log_radon</th>\n",
       "    </tr>\n",
       "  </thead>\n",
       "  <tbody>\n",
       "    <tr>\n",
       "      <th>0</th>\n",
       "      <td>5081.0</td>\n",
       "      <td>MN</td>\n",
       "      <td>MN</td>\n",
       "      <td>27.0</td>\n",
       "      <td>55735</td>\n",
       "      <td>5.0</td>\n",
       "      <td>1.0</td>\n",
       "      <td>1.0</td>\n",
       "      <td>3.0</td>\n",
       "      <td>N</td>\n",
       "      <td>...</td>\n",
       "      <td>9.7</td>\n",
       "      <td>1146.499190</td>\n",
       "      <td>1.0</td>\n",
       "      <td>0.0</td>\n",
       "      <td>1.0</td>\n",
       "      <td>AITKIN</td>\n",
       "      <td>27001.0</td>\n",
       "      <td>0.502054</td>\n",
       "      <td>0</td>\n",
       "      <td>0.832909</td>\n",
       "    </tr>\n",
       "    <tr>\n",
       "      <th>1</th>\n",
       "      <td>5082.0</td>\n",
       "      <td>MN</td>\n",
       "      <td>MN</td>\n",
       "      <td>27.0</td>\n",
       "      <td>55748</td>\n",
       "      <td>5.0</td>\n",
       "      <td>1.0</td>\n",
       "      <td>0.0</td>\n",
       "      <td>4.0</td>\n",
       "      <td>Y</td>\n",
       "      <td>...</td>\n",
       "      <td>14.5</td>\n",
       "      <td>471.366223</td>\n",
       "      <td>0.0</td>\n",
       "      <td>0.0</td>\n",
       "      <td>1.0</td>\n",
       "      <td>AITKIN</td>\n",
       "      <td>27001.0</td>\n",
       "      <td>0.502054</td>\n",
       "      <td>0</td>\n",
       "      <td>0.832909</td>\n",
       "    </tr>\n",
       "    <tr>\n",
       "      <th>2</th>\n",
       "      <td>5083.0</td>\n",
       "      <td>MN</td>\n",
       "      <td>MN</td>\n",
       "      <td>27.0</td>\n",
       "      <td>55748</td>\n",
       "      <td>5.0</td>\n",
       "      <td>1.0</td>\n",
       "      <td>0.0</td>\n",
       "      <td>4.0</td>\n",
       "      <td>Y</td>\n",
       "      <td>...</td>\n",
       "      <td>9.6</td>\n",
       "      <td>433.316718</td>\n",
       "      <td>0.0</td>\n",
       "      <td>0.0</td>\n",
       "      <td>1.0</td>\n",
       "      <td>AITKIN</td>\n",
       "      <td>27001.0</td>\n",
       "      <td>0.502054</td>\n",
       "      <td>0</td>\n",
       "      <td>1.098612</td>\n",
       "    </tr>\n",
       "    <tr>\n",
       "      <th>3</th>\n",
       "      <td>5084.0</td>\n",
       "      <td>MN</td>\n",
       "      <td>MN</td>\n",
       "      <td>27.0</td>\n",
       "      <td>56469</td>\n",
       "      <td>5.0</td>\n",
       "      <td>1.0</td>\n",
       "      <td>0.0</td>\n",
       "      <td>4.0</td>\n",
       "      <td>Y</td>\n",
       "      <td>...</td>\n",
       "      <td>24.3</td>\n",
       "      <td>461.623670</td>\n",
       "      <td>0.0</td>\n",
       "      <td>0.0</td>\n",
       "      <td>1.0</td>\n",
       "      <td>AITKIN</td>\n",
       "      <td>27001.0</td>\n",
       "      <td>0.502054</td>\n",
       "      <td>0</td>\n",
       "      <td>0.095310</td>\n",
       "    </tr>\n",
       "    <tr>\n",
       "      <th>4</th>\n",
       "      <td>5085.0</td>\n",
       "      <td>MN</td>\n",
       "      <td>MN</td>\n",
       "      <td>27.0</td>\n",
       "      <td>55011</td>\n",
       "      <td>3.0</td>\n",
       "      <td>1.0</td>\n",
       "      <td>0.0</td>\n",
       "      <td>4.0</td>\n",
       "      <td>Y</td>\n",
       "      <td>...</td>\n",
       "      <td>13.8</td>\n",
       "      <td>433.316718</td>\n",
       "      <td>0.0</td>\n",
       "      <td>0.0</td>\n",
       "      <td>3.0</td>\n",
       "      <td>ANOKA</td>\n",
       "      <td>27003.0</td>\n",
       "      <td>0.428565</td>\n",
       "      <td>1</td>\n",
       "      <td>1.163151</td>\n",
       "    </tr>\n",
       "  </tbody>\n",
       "</table>\n",
       "<p>5 rows × 29 columns</p>\n",
       "</div>"
      ],
      "text/plain": [
       "    idnum state state2  stfips    zip  region  typebldg  floor  room basement  \\\n",
       "0  5081.0    MN     MN    27.0  55735     5.0       1.0    1.0   3.0        N   \n",
       "1  5082.0    MN     MN    27.0  55748     5.0       1.0    0.0   4.0        Y   \n",
       "2  5083.0    MN     MN    27.0  55748     5.0       1.0    0.0   4.0        Y   \n",
       "3  5084.0    MN     MN    27.0  56469     5.0       1.0    0.0   4.0        Y   \n",
       "4  5085.0    MN     MN    27.0  55011     3.0       1.0    0.0   4.0        Y   \n",
       "\n",
       "     ...     pcterr        adjwt  dupflag  zipflag  cntyfips  county     fips  \\\n",
       "0    ...        9.7  1146.499190      1.0      0.0       1.0  AITKIN  27001.0   \n",
       "1    ...       14.5   471.366223      0.0      0.0       1.0  AITKIN  27001.0   \n",
       "2    ...        9.6   433.316718      0.0      0.0       1.0  AITKIN  27001.0   \n",
       "3    ...       24.3   461.623670      0.0      0.0       1.0  AITKIN  27001.0   \n",
       "4    ...       13.8   433.316718      0.0      0.0       3.0   ANOKA  27003.0   \n",
       "\n",
       "       Uppm  county_code  log_radon  \n",
       "0  0.502054            0   0.832909  \n",
       "1  0.502054            0   0.832909  \n",
       "2  0.502054            0   1.098612  \n",
       "3  0.502054            0   0.095310  \n",
       "4  0.428565            1   1.163151  \n",
       "\n",
       "[5 rows x 29 columns]"
      ]
     },
     "execution_count": 4,
     "metadata": {},
     "output_type": "execute_result"
    }
   ],
   "source": [
    "radon = pd.read_csv('radon.csv', index_col=0)\n",
    "radon.head()"
   ]
  },
  {
   "cell_type": "markdown",
   "metadata": {
    "colab_type": "text",
    "id": "20bum3htQjgN"
   },
   "source": [
    "Let's focus on the (log) radon levels measured in a single county (Hennepin).\n",
    "\n",
    "Suppose we are interested in:\n",
    "\n",
    "* whether the mean log-radon value is greater than 4 pCi/L in Hennepin county\n",
    "* the probability that any randomly-chosen household in Hennepin county has a reading of greater than 4"
   ]
  },
  {
   "cell_type": "code",
   "execution_count": 5,
   "metadata": {
    "colab": {
     "base_uri": "https://localhost:8080/",
     "height": 309
    },
    "colab_type": "code",
    "id": "fs16oXkPQB5h",
    "outputId": "aa66c67b-3121-44d9-af7d-5925f5d8cdbf"
   },
   "outputs": [
    {
     "name": "stderr",
     "output_type": "stream",
     "text": [
      "D:\\ProgramData\\Anaconda3\\lib\\site-packages\\scipy\\stats\\stats.py:1713: FutureWarning: Using a non-tuple sequence for multidimensional indexing is deprecated; use `arr[tuple(seq)]` instead of `arr[seq]`. In the future this will be interpreted as an array index, `arr[np.array(seq)]`, which will result either in an error or a different result.\n",
      "  return np.add.reduce(sorted[indexer] * weights, axis=axis) / sumval\n"
     ]
    },
    {
     "data": {
      "text/plain": [
       "(105,)"
      ]
     },
     "execution_count": 5,
     "metadata": {},
     "output_type": "execute_result"
    },
    {
     "data": {
      "image/png": "[encoded data removed]",
      "text/plain": [
       "<Figure size 432x288 with 1 Axes>"
      ]
     },
     "metadata": {
      "needs_background": "light"
     },
     "output_type": "display_data"
    }
   ],
   "source": [
    "hennepin_radon = radon.query('county==\"HENNEPIN\"').log_radon\n",
    "sns.distplot(hennepin_radon)\n",
    "hennepin_radon.shape"
   ]
  },
  {
   "cell_type": "markdown",
   "metadata": {
    "colab_type": "text",
    "id": "r9OWYGkFQ9xp"
   },
   "source": [
    "## The model\n",
    "Recall that the first step in Bayesian inference is specifying a full probability model for the problem.\n",
    "\n",
    "This consists of:\n",
    "\n",
    "* a likelihood function(s) for the observations\n",
    "* priors for all unknown quantities\n",
    "\n",
    "The measurements look approximately normal, so let's start by assuming a normal distribution as the sampling distribution (likelihood) for the data.\n",
    "\n",
    "$$y_i \\sim N(\\mu, \\sigma^2)$$\n",
    "(don't worry, we can evaluate this assumption)\n",
    "\n",
    "This implies that we have 2 unknowns in the model; the mean and standard deviation of the distribution.\n",
    "\n",
    "## Prior choice\n",
    "How do we choose distributions to use as priors for these parameters?\n",
    "\n",
    "There are several considerations:\n",
    "\n",
    "* discrete vs continuous values\n",
    "* the support of the variable\n",
    "* the available prior information\n",
    "While there may likely be prior information about the distribution of radon values, we will assume no prior knowledge, and specify a diffuse prior for each parameter.\n",
    "\n",
    "Since the mean can take any real value (since it is on the log scale), we will use another normal distribution here, and specify a large variance to allow the possibility of very large or very small values:\n",
    "\n",
    "$$\\mu \\sim N(0, 10^2)$$\n",
    "For the standard deviation, we know that the true value must be positive (no negative variances!). I will choose a uniform prior bounded from below at zero and from above at a value that is sure to be higher than any plausible value the true standard deviation (on the log scale) could take.\n",
    "\n",
    "$$\\sigma \\sim U(0, 10)$$\n",
    "We can encode these in a Python model, using the PyMC3 package, as follows:"
   ]
  },
  {
   "cell_type": "code",
   "execution_count": 6,
   "metadata": {
    "colab": {},
    "colab_type": "code",
    "id": "Erj83Ni1QtOl"
   },
   "outputs": [],
   "source": [
    "from pymc3 import Model, Uniform\n",
    "\n",
    "with Model() as radon_model:\n",
    "    \n",
    "    μ = Normal('μ', mu=0, sd=10)\n",
    "    σ = Uniform('σ', 0, 10)"
   ]
  },
  {
   "cell_type": "markdown",
   "metadata": {
    "colab_type": "text",
    "id": "Ugtu4Os1RTca"
   },
   "source": [
    "**Software**\n",
    "Today there is an array of software choices for Bayesians, including both open source software (e.g., Stan, PyMC, JAGS, emcee) and commercial (e.g., SAS, Stata). These examples can be replicated in any of these environments.\n",
    "\n",
    "\n",
    "\n",
    "All that remains is to add the likelihood, which takes $\\mu$ and $\\sigma$ as parameters, and the log-radon values as the set of observations:"
   ]
  },
  {
   "cell_type": "code",
   "execution_count": 7,
   "metadata": {
    "colab": {},
    "colab_type": "code",
    "id": "vNIvNbfhRSgs"
   },
   "outputs": [],
   "source": [
    "with radon_model:\n",
    "    \n",
    "    y = Normal('y', mu=μ, sd=σ, observed=hennepin_radon)"
   ]
  },
  {
   "cell_type": "markdown",
   "metadata": {
    "colab_type": "text",
    "id": "M-nChH8GRiTJ"
   },
   "source": [
    "Now, we will fit the model using a numerical approach called **variational inference**. This will estimate the posterior distribution using an optimized approximation, and then draw samples from it."
   ]
  },
  {
   "cell_type": "code",
   "execution_count": 8,
   "metadata": {
    "colab": {
     "base_uri": "https://localhost:8080/",
     "height": 52
    },
    "colab_type": "code",
    "id": "guVw3R51RcVs",
    "outputId": "0e4bb259-8d03-4960-8120-dda98e55bc9a"
   },
   "outputs": [
    {
     "name": "stderr",
     "output_type": "stream",
     "text": [
      "Average Loss = 136.48: 100%|█████████████████████████████████████████████████████| 10000/10000 [03:01<00:00, 54.96it/s]\n",
      "Finished [100%]: Average Loss = 136.37\n"
     ]
    }
   ],
   "source": [
    "from pymc3 import fit\n",
    "\n",
    "with radon_model:\n",
    "\n",
    "    samples = fit(random_seed=RANDOM_SEED).sample(1000)"
   ]
  },
  {
   "cell_type": "code",
   "execution_count": 9,
   "metadata": {
    "colab": {
     "base_uri": "https://localhost:8080/",
     "height": 634
    },
    "colab_type": "code",
    "id": "VvEjuujgRnGv",
    "outputId": "f4112c08-ea81-4e34-cbf3-548cb3d8368e"
   },
   "outputs": [
    {
     "data": {
      "image/png": "[encoded data removed]",
      "text/plain": [
       "<Figure size 432x288 with 1 Axes>"
      ]
     },
     "metadata": {
      "needs_background": "light"
     },
     "output_type": "display_data"
    }
   ],
   "source": [
    "#!pip install arviz\n",
    "#import arviz as az\n",
    "from pymc3 import plot_posterior\n",
    "plot_posterior(samples, varnames=['μ'], ref_val=np.log(4), color='LightSeaGreen');"
   ]
  },
  {
   "cell_type": "markdown",
   "metadata": {
    "colab_type": "text",
    "id": "oGi8LSayTLBG"
   },
   "source": [
    "The plot shows the posterior distribution of $\\mu$, along with an estimate of the 95% posterior credible interval.\n",
    "\n",
    "The output\n",
    "\n",
    "83.1% < 1.38629 < 16.9%%\n",
    "\n",
    "informs us that the probability of $\\mu$ being less than $\\log(4)$ is 83.1%% and the corresponding probability of being greater than $\\log(4)$ is 16.9%.\n",
    "\n",
    "The posterior probability that the mean level of household radon in Henneprin County is greater than 4 pCi/L is 0.17.\n",
    "\n",
    "Prediction\n",
    "What is the probability that a given household has a log-radon measurement larger than one? To answer this, we make use of the posterior predictive distribution.\n",
    "\n",
    "$$p(z |y) = \\int_{\\theta} p(z |\\theta) p(\\theta | y) d\\theta$$\n",
    "where here $z$ is the predicted value and y is the data used to fit the model.\n",
    "\n",
    "We can estimate this from the posterior samples of the parameters in the model."
   ]
  },
  {
   "cell_type": "code",
   "execution_count": 10,
   "metadata": {
    "colab": {
     "base_uri": "https://localhost:8080/",
     "height": 34
    },
    "colab_type": "code",
    "id": "XgLwSQCtSsj3",
    "outputId": "b4fdd18c-bb6a-4782-a81b-4509b78304db"
   },
   "outputs": [
    {
     "data": {
      "text/plain": [
       "0.453"
      ]
     },
     "execution_count": 10,
     "metadata": {},
     "output_type": "execute_result"
    }
   ],
   "source": [
    "mus = samples['μ']\n",
    "sigmas = samples['σ']\n",
    "radon_samples = Normal.dist(mus, sigmas).random()\n",
    "(radon_samples > np.log(4)).mean()"
   ]
  },
  {
   "cell_type": "markdown",
   "metadata": {
    "colab_type": "text",
    "id": "Zd62ezRWTSYR"
   },
   "source": [
    "The posterior probability that a randomly-selected household in Henneprin County contains radon levels in excess of 4 pCi/L is 0.48.\n",
    "\n",
    "## Model checking\n",
    "But, how do we know this model is any good?\n",
    "\n",
    "Its important to check the fit of the model, to see if its assumptions are reasonable. One way to do this is to perform posterior predictive checks. This involves generating simulated data using the model that you built, and comparing that data to the observed data.\n",
    "\n",
    "One can choose a particular statistic to compare, such as tail probabilities or quartiles, but here it is useful to compare them graphically.\n",
    "\n",
    "We already have these simulations from the previous exercise!"
   ]
  },
  {
   "cell_type": "code",
   "execution_count": 11,
   "metadata": {
    "colab": {
     "base_uri": "https://localhost:8080/",
     "height": 309
    },
    "colab_type": "code",
    "id": "YNjOCXCSTPtb",
    "outputId": "e4fe2836-3188-402f-920c-6050f5a9a010"
   },
   "outputs": [
    {
     "name": "stderr",
     "output_type": "stream",
     "text": [
      "D:\\ProgramData\\Anaconda3\\lib\\site-packages\\scipy\\stats\\stats.py:1713: FutureWarning: Using a non-tuple sequence for multidimensional indexing is deprecated; use `arr[tuple(seq)]` instead of `arr[seq]`. In the future this will be interpreted as an array index, `arr[np.array(seq)]`, which will result either in an error or a different result.\n",
      "  return np.add.reduce(sorted[indexer] * weights, axis=axis) / sumval\n"
     ]
    },
    {
     "data": {
      "text/plain": [
       "<matplotlib.legend.Legend at 0x15b98beb7f0>"
      ]
     },
     "execution_count": 11,
     "metadata": {},
     "output_type": "execute_result"
    },
    {
     "data": {
      "image/png": "[encoded data removed]",
      "text/plain": [
       "<Figure size 432x288 with 1 Axes>"
      ]
     },
     "metadata": {
      "needs_background": "light"
     },
     "output_type": "display_data"
    }
   ],
   "source": [
    "sns.distplot(radon_samples, label='simulated')\n",
    "sns.distplot(hennepin_radon, label='observed')\n",
    "plt.legend()"
   ]
  },
  {
   "cell_type": "markdown",
   "metadata": {
    "colab_type": "text",
    "id": "YupmvvzKTbKN"
   },
   "source": [
    "## Prior sensitivity\n",
    "Its also important to check the sensitivity of your choice of priors to the resulting inference.\n",
    "\n",
    "Here is the same model, but with drastically different (though still uninformative) priors specified:"
   ]
  },
  {
   "cell_type": "code",
   "execution_count": 12,
   "metadata": {
    "colab": {
     "base_uri": "https://localhost:8080/",
     "height": 52
    },
    "colab_type": "code",
    "id": "l2Ga5tu_TXBS",
    "outputId": "c177ae03-4cba-48d1-8e04-7d3e424f1688"
   },
   "outputs": [
    {
     "name": "stderr",
     "output_type": "stream",
     "text": [
      "Average Loss = 123.98: 100%|█████████████████████████████████████████████████████| 10000/10000 [02:58<00:00, 55.90it/s]\n",
      "Finished [100%]: Average Loss = 123.94\n"
     ]
    }
   ],
   "source": [
    "from pymc3 import Flat, HalfCauchy\n",
    "\n",
    "with Model() as prior_sensitivity:\n",
    "    \n",
    "    μ = Flat('μ')\n",
    "    σ = HalfCauchy('σ', 5)\n",
    "    \n",
    "    dist = Normal('dist', mu=μ, sd=σ, observed=hennepin_radon)\n",
    "    \n",
    "    sensitivity_samples = fit(random_seed=RANDOM_SEED).sample(1000)"
   ]
  },
  {
   "cell_type": "code",
   "execution_count": 13,
   "metadata": {
    "colab": {
     "base_uri": "https://localhost:8080/",
     "height": 528
    },
    "colab_type": "code",
    "id": "TQhBFIaCTeAL",
    "outputId": "4e0b742e-2984-4178-92d6-e0437c7c90fd"
   },
   "outputs": [
    {
     "data": {
      "image/png": "[encoded data removed]",
      "text/plain": [
       "<Figure size 432x288 with 1 Axes>"
      ]
     },
     "metadata": {
      "needs_background": "light"
     },
     "output_type": "display_data"
    }
   ],
   "source": [
    "plot_posterior(sensitivity_samples, varnames=['μ'], ref_val=np.log(4), color='LightSeaGreen');"
   ]
  },
  {
   "cell_type": "markdown",
   "metadata": {
    "colab_type": "text",
    "id": "rP_5CvPBTjbm"
   },
   "source": [
    "Here is the original model for comparison:"
   ]
  },
  {
   "cell_type": "code",
   "execution_count": 14,
   "metadata": {
    "colab": {
     "base_uri": "https://localhost:8080/",
     "height": 528
    },
    "colab_type": "code",
    "id": "-m7M7SOgTjw8",
    "outputId": "7c36258b-1087-4ec8-dd02-7109ce78079d"
   },
   "outputs": [
    {
     "data": {
      "image/png": "[encoded data removed]",
      "text/plain": [
       "<Figure size 432x288 with 1 Axes>"
      ]
     },
     "metadata": {
      "needs_background": "light"
     },
     "output_type": "display_data"
    }
   ],
   "source": [
    "plot_posterior(samples, varnames=['μ'], ref_val=np.log(4), color='LightSeaGreen');"
   ]
  },
  {
   "cell_type": "code",
   "execution_count": 0,
   "metadata": {
    "colab": {},
    "colab_type": "code",
    "id": "jTC6NbPvTmKM"
   },
   "outputs": [],
   "source": []
  }
 ],
 "metadata": {
  "colab": {
   "collapsed_sections": [],
   "name": "bayesianInferenceIntro.ipynb",
   "provenance": [],
   "toc_visible": true,
   "version": "0.3.2"
  },
  "kernelspec": {
   "display_name": "Python 3",
   "language": "python",
   "name": "python3"
  },
  "language_info": {
   "codemirror_mode": {
    "name": "ipython",
    "version": 3
   },
   "file_extension": ".py",
   "mimetype": "text/x-python",
   "name": "python",
   "nbconvert_exporter": "python",
   "pygments_lexer": "ipython3",
   "version": "3.7.0"
  }
 },
 "nbformat": 4,
 "nbformat_minor": 1
}
